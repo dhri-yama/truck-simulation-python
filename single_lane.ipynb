{
 "cells": [
  {
   "cell_type": "code",
   "execution_count": 18,
   "metadata": {},
   "outputs": [],
   "source": [
    "import sys\n",
    "import pandas as pd\n",
    "import numpy as np\n",
    "import matplotlib.pyplot as plt\n",
    "import time"
   ]
  },
  {
   "cell_type": "code",
   "execution_count": 19,
   "metadata": {},
   "outputs": [],
   "source": [
    "#movement of truck\n",
    "\n",
    "def next_position(truck,time):\n",
    "    x_curr = truck['x_curr']\n",
    "    curr_dirn = truck['curr_dirn']\n",
    "    speed = truck['speed']\n",
    "    time = time\n",
    "    return(x_curr + (curr_dirn*speed*time))"
   ]
  },
  {
   "cell_type": "code",
   "execution_count": 20,
   "metadata": {},
   "outputs": [],
   "source": [
    "#forward moving truck arrival initiation\n",
    "\n",
    "def for_truck_arr(trucks,time,position_of_junct):\n",
    "    temp = {'x_curr':position_of_junct[0],'curr_dirn':1,'speed':1,'reverse_speed':1,'root_dirn':1,'arr_time':time,'depart_time':0,\n",
    "        'for_dist':0,'back_dist':0}\n",
    "    return trucks.append(temp)"
   ]
  },
  {
   "cell_type": "code",
   "execution_count": 21,
   "metadata": {},
   "outputs": [],
   "source": [
    "#backward moving truck arrival initiation\n",
    "\n",
    "def back_truck_arr(trucks,time,position_of_junct):\n",
    "    temp = {'x_curr':position_of_junct[-1],'curr_dirn':-1,'speed':1,'reverse_speed':1,'root_dirn':-1,'arr_time':time,'depart_time':0,\n",
    "        'for_dist':0,'back_dist':0}\n",
    "    return trucks.append(temp)"
   ]
  },
  {
   "cell_type": "code",
   "execution_count": 22,
   "metadata": {},
   "outputs": [],
   "source": [
    "#check if any of 2 trucks are near junctions, which means no need to consider collision\n",
    "\n",
    "def not_near_junct(truck_1,truck_2,position_of_junct,time_delta):\n",
    "    for i in range(0,len(position_of_junct)):\n",
    "        if (abs(truck_1['x_curr'] - position_of_junct[i]) <= (truck_1['speed']*time_delta)) or (abs(truck_2['x_curr'] - position_of_junct[i]) <= (truck_2['speed']*time_delta)):\n",
    "            return(0)\n",
    "    \n",
    "    return(1)"
   ]
  },
  {
   "cell_type": "code",
   "execution_count": 23,
   "metadata": {},
   "outputs": [],
   "source": [
    "def dist_from_left_junc(x):\n",
    "    \n",
    "    for i in range(0,len(position_of_junct)):\n",
    "        if x-position_of_junct[i] < 0:\n",
    "            return(x-position_of_junct[i-1])\n",
    "    \n",
    "    return(0)\n",
    "\n",
    "def dist_from_right_junc(x):\n",
    "    \n",
    "    for i in range(0,len(position_of_junct)):\n",
    "        if x-position_of_junct[i] <= 0:\n",
    "            return(abs(x-position_of_junct[i]))\n",
    "    \n",
    "    return(0)"
   ]
  },
  {
   "cell_type": "code",
   "execution_count": 24,
   "metadata": {},
   "outputs": [],
   "source": [
    "#\n",
    "\n",
    "def movement_desicion(trucks,collisions):\n",
    "    \n",
    "    if len(collisions) > 1:\n",
    "        for i in range(0,len(collisions)-1):\n",
    "            temp_coll = collisions[i]\n",
    "            if len(temp_coll) > 1:                                     #merging collision pairs if multiple trucks on the same position\n",
    "                for j in range(0,len(temp_coll)):\n",
    "                    for k in range(i+1,len(collisions)):\n",
    "                        if temp_coll[j] in collisions[k]:\n",
    "                            collisions[i].extend(collisions[k])\n",
    "                            collisions[k] = []\n",
    "\n",
    "    for i in range(0,len(collisions)):\n",
    "        if len(collisions[i]) <= 1:\n",
    "            collisions[i] = []\n",
    " \n",
    "    collisions = [x for x in collisions if x != []]                   #removing trucks with no collisions\n",
    "\n",
    "    if len(collisions) > 0:\n",
    "        for i in range(0,len(collisions)):                             #assigning direction to trucks at one point in order to clear traffic, acc to less reverse cumulative total dist to be travelled given which trucks move backward\n",
    "\n",
    "            temp_coll = collisions[i]\n",
    "            temp_for = 0\n",
    "            temp_back = 0\n",
    "            dist_from_prev_junc = dist_from_left_junc(trucks[temp_coll[0]]['x_curr'])\n",
    "            dist_from_next_junc = dist_from_right_junc(trucks[temp_coll[0]]['x_curr'])\n",
    "\n",
    "            for j in range(0,len(temp_coll)):\n",
    "                if trucks[temp_coll[j]]['root_dirn'] == 1:\n",
    "                    temp_for = temp_for + 1\n",
    "\n",
    "                if trucks[temp_coll[j]]['root_dirn'] == -1:\n",
    "                    temp_back = temp_back + 1\n",
    "\n",
    "            if ((temp_for*dist_from_prev_junc) >= (temp_back*dist_from_next_junc)):\n",
    "                temp_curr = 1\n",
    "\n",
    "            else:\n",
    "                temp_curr = -1\n",
    "\n",
    "            for j in range(0,len(temp_coll)):\n",
    "                trucks[temp_coll[j]]['curr_dirn'] = temp_curr"
   ]
  },
  {
   "cell_type": "code",
   "execution_count": 268,
   "metadata": {},
   "outputs": [
    {
     "output_type": "stream",
     "name": "stdout",
     "text": [
      "[6.73, 5.52, 6.26, 7.49, 9.06, 6.91, 2.49, 3.95, 7.09, 5.53, 4.69, 7.47, 7.24, 2.75, 8.18, 4.87]\n"
     ]
    }
   ],
   "source": [
    "#initialization of params\n",
    "\n",
    "time_delta = 0.0001                    #4th decimal place , will require this in rounding off to avoid floating point sum precision error\n",
    "no_of_junctions = 18                   #including start and end node\n",
    "#dist_bw_junct = [1]*no_of_junctions   #taken const and same\n",
    "# mu=5\n",
    "# sigma=2\n",
    "# dist_bw_junct = np.random.normal(mu, sigma, 10)\n",
    "# dist_bw_junct= [round(xyz,1) for xyz in dist_bw_junct]\n",
    "\n",
    "\n",
    "# position_of_junct = [0]\n",
    "# for i in range(1,no_of_junctions):\n",
    "#     position_of_junct.append(position_of_junct[i-1]+dist_bw_junct[i-1])\n",
    "mu=5\n",
    "sigma=2\n",
    "position_of_junct = np.random.normal(mu, sigma, no_of_junctions-2)\n",
    "position_of_junct= [round(xyz,2) for xyz in position_of_junct]\n",
    "print(position_of_junct)\n",
    "position_of_junct.sort()\n",
    "position_of_junct.append(10)\n",
    "position_of_junct=[0]+position_of_junct\n",
    "#junct_capacity = []\n",
    "#junct_use_count = []\n",
    "\n",
    "#trucks arrive at both ends following uniform dist\n",
    "no_of_trucks_to_sim_each_dir = 5\n",
    "sim_run_totaltime = 50\n",
    "for_truck_arr_times = np.sort([round(num,2) for num in np.random.uniform(0,sim_run_totaltime/2,no_of_trucks_to_sim_each_dir)])\n",
    "back_truck_arr_times = np.sort([round(num,2) for num in np.random.uniform(0,sim_run_totaltime/2,no_of_trucks_to_sim_each_dir)])"
   ]
  },
  {
   "cell_type": "code",
   "execution_count": 269,
   "metadata": {},
   "outputs": [
    {
     "output_type": "execute_result",
     "data": {
      "text/plain": [
       "[0,\n",
       " 2.49,\n",
       " 2.75,\n",
       " 3.95,\n",
       " 4.69,\n",
       " 4.87,\n",
       " 5.52,\n",
       " 5.53,\n",
       " 6.26,\n",
       " 6.73,\n",
       " 6.91,\n",
       " 7.09,\n",
       " 7.24,\n",
       " 7.47,\n",
       " 7.49,\n",
       " 8.18,\n",
       " 9.06,\n",
       " 10]"
      ]
     },
     "metadata": {},
     "execution_count": 269
    }
   ],
   "source": [
    "position_of_junct"
   ]
  },
  {
   "cell_type": "code",
   "execution_count": 270,
   "metadata": {},
   "outputs": [
    {
     "output_type": "execute_result",
     "data": {
      "text/plain": [
       "array([ 2.33,  3.66,  6.06,  6.88, 22.33])"
      ]
     },
     "metadata": {},
     "execution_count": 270
    }
   ],
   "source": [
    "for_truck_arr_times"
   ]
  },
  {
   "cell_type": "code",
   "execution_count": 271,
   "metadata": {},
   "outputs": [
    {
     "output_type": "execute_result",
     "data": {
      "text/plain": [
       "array([ 9.2 ,  9.63, 19.58, 21.64, 22.22])"
      ]
     },
     "metadata": {},
     "execution_count": 271
    }
   ],
   "source": [
    "back_truck_arr_times"
   ]
  },
  {
   "cell_type": "code",
   "execution_count": 272,
   "metadata": {},
   "outputs": [
    {
     "output_type": "stream",
     "name": "stdout",
     "text": [
      "simulation ends early\n"
     ]
    }
   ],
   "source": [
    "#simulation starts\n",
    "\n",
    "trucks = []                                #list of trucks running\n",
    "reached_trucks = []                        #list of trucks reached to their destination\n",
    "t = 0                                      #global timeline\n",
    "\n",
    "while t < sim_run_totaltime:                            #simulate for 1000 unit times or can change to condition when all trucks reach their detination \n",
    "    \n",
    "    #print(t)\n",
    "    \n",
    "    if len(trucks) == 0 and t > max(max(for_truck_arr_times),max(back_truck_arr_times)):                   #stop simulation if all trucks reached\n",
    "        print('simulation ends early')\n",
    "        break\n",
    "    \n",
    "    if(t in for_truck_arr_times):          #trucks arrive at start node\n",
    "        for_truck_arr(trucks,t,position_of_junct)\n",
    "    if(t in  back_truck_arr_times):        #trucks arrive at end node \n",
    "        back_truck_arr(trucks,t,position_of_junct)\n",
    "    \n",
    "    t = round(t + time_delta,4)                     #time increment\n",
    "    \n",
    "    if len(trucks) > 0:                                    #all this calculations if any trucks running  \n",
    "        for i in range(0,len(trucks)):                     #reseting truck movement direction ones it reaches junction after moving reverse dir\n",
    "            if trucks[i]['x_curr'] in position_of_junct:\n",
    "                trucks[i]['curr_dirn'] = trucks[i]['root_dirn']\n",
    "\n",
    "\n",
    "        collisions = []                       #observing collisions over complete path\n",
    "        temp_trucks = trucks\n",
    "        for i in range(0,len(temp_trucks)):\n",
    "\n",
    "            temp_coll = [i]\n",
    "            temp_1 = temp_trucks[i]\n",
    "\n",
    "            for j in range(i+1,len(temp_trucks)):\n",
    "\n",
    "                temp_2 = temp_trucks[j]\n",
    "                if not_near_junct(temp_1,temp_2,position_of_junct,time_delta):           #if not near junctions and unit dist close to each other moving in opp directions\n",
    "                    if abs(temp_1['x_curr'] - temp_2['x_curr']) <= (temp_1['speed']*time_delta) and temp_1['curr_dirn'] != temp_2['curr_dirn']:\n",
    "                        temp_coll.append(j)\n",
    "\n",
    "            collisions.append(temp_coll)\n",
    "\n",
    "        movement_desicion(trucks,collisions)              #change current directions of trucks acc to cumulative closeness to nearby nodes, in order to make decision which of the trucks move in reverse direction\n",
    "        \n",
    "        remove_trucks = []\n",
    "        \n",
    "        for i in range(0,len(trucks)):\n",
    "            \n",
    "                                        #stop trucks if reached destination, remove them from active running trucks\n",
    "            \n",
    "            if trucks[i]['root_dirn'] == 1:\n",
    "                if (trucks[i]['x_curr'] >= position_of_junct[-1]):\n",
    "                    trucks[i]['depart_time'] = t\n",
    "                    reached_trucks.append(trucks[i])\n",
    "                    remove_trucks.append(i)\n",
    "                    #trucks.pop(i)\n",
    "                    #trucks[i]['speed'] = 0\n",
    "                    #trucks[i]['reverse_speed'] = 0 \n",
    "\n",
    "            if trucks[i]['root_dirn'] == -1:\n",
    "                if (trucks[i]['x_curr'] <= position_of_junct[0]):\n",
    "                    trucks[i]['depart_time'] = t\n",
    "                    reached_trucks.append(trucks[i])\n",
    "                    remove_trucks.append(i)\n",
    "                    #trucks.pop(i)\n",
    "                    #trucks[i]['speed'] = 0\n",
    "                    #trucks[i]['reverse_speed'] = 0 \n",
    "        \n",
    "        for k in remove_trucks:\n",
    "            trucks.pop(k)\n",
    "        \n",
    "                                                                          #add forward or backward movement for trucks \n",
    "        if len(trucks) > 0:\n",
    "            for i in range(0,len(trucks)):\n",
    "                if trucks[i]['curr_dirn'] == trucks[i]['root_dirn']:\n",
    "                    trucks[i]['for_dist'] = trucks[i]['for_dist'] + trucks[i]['speed']*time_delta\n",
    "\n",
    "                else:\n",
    "                    trucks[i]['back_dist'] = trucks[i]['back_dist'] + trucks[i]['speed']*time_delta\n",
    "\n",
    "\n",
    "                trucks[i]['x_curr'] = round(next_position(trucks[i],time_delta),4)     #move truck to next position accordingly"
   ]
  },
  {
   "cell_type": "code",
   "execution_count": 273,
   "metadata": {},
   "outputs": [
    {
     "output_type": "execute_result",
     "data": {
      "text/plain": [
       "32.4801"
      ]
     },
     "metadata": {},
     "execution_count": 273
    }
   ],
   "source": [
    "t"
   ]
  },
  {
   "cell_type": "code",
   "execution_count": 274,
   "metadata": {},
   "outputs": [
    {
     "output_type": "execute_result",
     "data": {
      "text/plain": [
       "[]"
      ]
     },
     "metadata": {},
     "execution_count": 274
    }
   ],
   "source": [
    "trucks"
   ]
  },
  {
   "cell_type": "code",
   "execution_count": 275,
   "metadata": {},
   "outputs": [
    {
     "output_type": "execute_result",
     "data": {
      "text/plain": [
       "[{'x_curr': 10.0,\n",
       "  'curr_dirn': 1,\n",
       "  'speed': 1,\n",
       "  'reverse_speed': 1,\n",
       "  'root_dirn': 1,\n",
       "  'arr_time': 2.33,\n",
       "  'depart_time': 13.2701,\n",
       "  'for_dist': 10.469999999988937,\n",
       "  'back_dist': 0.46999999999996456},\n",
       " {'x_curr': 10.0,\n",
       "  'curr_dirn': 1,\n",
       "  'speed': 1,\n",
       "  'reverse_speed': 1,\n",
       "  'root_dirn': 1,\n",
       "  'arr_time': 3.66,\n",
       "  'depart_time': 14.6501,\n",
       "  'for_dist': 10.49499999998888,\n",
       "  'back_dist': 0.4949999999999618},\n",
       " {'x_curr': 10.0,\n",
       "  'curr_dirn': 1,\n",
       "  'speed': 1,\n",
       "  'reverse_speed': 1,\n",
       "  'root_dirn': 1,\n",
       "  'arr_time': 6.06,\n",
       "  'depart_time': 17.1101,\n",
       "  'for_dist': 10.52499999998881,\n",
       "  'back_dist': 0.5249999999999585},\n",
       " {'x_curr': 10.0001,\n",
       "  'curr_dirn': 1,\n",
       "  'speed': 1,\n",
       "  'reverse_speed': 1,\n",
       "  'root_dirn': 1,\n",
       "  'arr_time': 6.88,\n",
       "  'depart_time': 17.1102,\n",
       "  'for_dist': 10.115099999989765,\n",
       "  'back_dist': 0.11500000000000227},\n",
       " {'x_curr': 10.0001,\n",
       "  'curr_dirn': 1,\n",
       "  'speed': 1,\n",
       "  'reverse_speed': 1,\n",
       "  'root_dirn': 1,\n",
       "  'arr_time': 6.88,\n",
       "  'depart_time': 17.1102,\n",
       "  'for_dist': 10.115099999989765,\n",
       "  'back_dist': 0.11500000000000227},\n",
       " {'x_curr': 0.0,\n",
       "  'curr_dirn': -1,\n",
       "  'speed': 1,\n",
       "  'reverse_speed': 1,\n",
       "  'root_dirn': -1,\n",
       "  'arr_time': 9.63,\n",
       "  'depart_time': 19.6301,\n",
       "  'for_dist': 9.999999999990033,\n",
       "  'back_dist': 0},\n",
       " {'x_curr': 0.0,\n",
       "  'curr_dirn': -1,\n",
       "  'speed': 1,\n",
       "  'reverse_speed': 1,\n",
       "  'root_dirn': -1,\n",
       "  'arr_time': 19.58,\n",
       "  'depart_time': 30.2301,\n",
       "  'for_dist': 10.324999999989275,\n",
       "  'back_dist': 0.3249999999999805},\n",
       " {'x_curr': 0.0,\n",
       "  'curr_dirn': -1,\n",
       "  'speed': 1,\n",
       "  'reverse_speed': 1,\n",
       "  'root_dirn': -1,\n",
       "  'arr_time': 21.64,\n",
       "  'depart_time': 31.7101,\n",
       "  'for_dist': 10.034999999989951,\n",
       "  'back_dist': 0.034999999999999976},\n",
       " {'x_curr': 0.0,\n",
       "  'curr_dirn': -1,\n",
       "  'speed': 1,\n",
       "  'reverse_speed': 1,\n",
       "  'root_dirn': -1,\n",
       "  'arr_time': 22.22,\n",
       "  'depart_time': 32.2201,\n",
       "  'for_dist': 9.999999999990033,\n",
       "  'back_dist': 0},\n",
       " {'x_curr': 10.0,\n",
       "  'curr_dirn': 1,\n",
       "  'speed': 1,\n",
       "  'reverse_speed': 1,\n",
       "  'root_dirn': 1,\n",
       "  'arr_time': 22.33,\n",
       "  'depart_time': 32.4801,\n",
       "  'for_dist': 10.074999999989858,\n",
       "  'back_dist': 0.07500000000000112}]"
      ]
     },
     "metadata": {},
     "execution_count": 275
    }
   ],
   "source": [
    "reached_trucks"
   ]
  },
  {
   "cell_type": "code",
   "execution_count": 276,
   "metadata": {},
   "outputs": [
    {
     "output_type": "stream",
     "name": "stdout",
     "text": [
      "Average Time:  10.431119999999998\nAverage Forw Distance 10.215519999989532\nAverage Backward Dist 0.2154999999999871\nAverage Distance 10.431019999989518\n"
     ]
    }
   ],
   "source": [
    "tot_back_dist=0\n",
    "tot_forw_dist=0\n",
    "for obj in reached_trucks:\n",
    "    total_dist=obj['for_dist']+obj['back_dist']\n",
    "    obj['total_dist']=total_dist\n",
    "    total_time=obj['depart_time']-obj['arr_time']\n",
    "    obj['total_time']=total_time\n",
    "    tot_back_dist=tot_back_dist+obj['back_dist']\n",
    "    tot_forw_dist=tot_forw_dist+obj['for_dist']\n",
    "total_dist=0\n",
    "total_time=0\n",
    "\n",
    "for truck in reached_trucks:\n",
    "    total_dist=total_dist+truck['total_dist']\n",
    "    total_time=total_time+truck['total_time']\n",
    "avg_dist=total_dist/len(reached_trucks)\n",
    "avg_time=total_time/len(reached_trucks)\n",
    "avg_back_dist=tot_back_dist/len(reached_trucks)\n",
    "avg_f=tot_forw_dist/len(reached_trucks)\n",
    "\n",
    "print(\"Average Time: \", avg_time)\n",
    "print(\"Average Forw Distance\",avg_f)\n",
    "print(\"Average Backward Dist\",avg_back_dist )\n",
    "print(\"Average Distance\", avg_dist)\n"
   ]
  },
  {
   "cell_type": "code",
   "execution_count": 277,
   "metadata": {},
   "outputs": [
    {
     "output_type": "stream",
     "name": "stdout",
     "text": [
      "Total Time:  104.31119999999999\nFor Distance 102.15519999989532\nBackward: 2.154999999999871\nTotal Distance 104.31019999989518\n"
     ]
    }
   ],
   "source": [
    "print(\"Total Time: \", total_time)\n",
    "print(\"For Distance\",tot_forw_dist)\n",
    "print(\"Backward:\",tot_back_dist )\n",
    "print(\"Total Distance\", total_dist)\n"
   ]
  },
  {
   "cell_type": "code",
   "execution_count": null,
   "metadata": {},
   "outputs": [],
   "source": []
  }
 ],
 "metadata": {
  "kernelspec": {
   "display_name": "Python 3",
   "language": "python",
   "name": "python3"
  },
  "language_info": {
   "codemirror_mode": {
    "name": "ipython",
    "version": 3
   },
   "file_extension": ".py",
   "mimetype": "text/x-python",
   "name": "python",
   "nbconvert_exporter": "python",
   "pygments_lexer": "ipython3",
   "version": "3.9.2"
  }
 },
 "nbformat": 4,
 "nbformat_minor": 4
}